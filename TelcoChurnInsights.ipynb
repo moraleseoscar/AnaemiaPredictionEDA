{
 "cells": [
  {
   "cell_type": "markdown",
   "metadata": {},
   "source": [
    "# Integrantes:\n",
    "\n",
    "Sara Paguaga 20634\n",
    "Oscar Estrada 20565\n",
    "Guillermo Santos 191517\n",
    "Cayetano Molina  20211"
   ]
  }
 ],
 "metadata": {
  "language_info": {
   "name": "python"
  }
 },
 "nbformat": 4,
 "nbformat_minor": 2
}
